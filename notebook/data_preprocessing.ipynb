{
 "cells": [
  {
   "cell_type": "code",
   "execution_count": 24,
   "id": "728812f9",
   "metadata": {},
   "outputs": [],
   "source": [
    "import pandas as pd\n",
    "import yaml"
   ]
  },
  {
   "cell_type": "code",
   "execution_count": 25,
   "id": "8dd2acf2",
   "metadata": {},
   "outputs": [
    {
     "data": {
      "text/plain": [
       "'1.3.5'"
      ]
     },
     "execution_count": 25,
     "metadata": {},
     "output_type": "execute_result"
    }
   ],
   "source": [
    "pd.__version__"
   ]
  },
  {
   "cell_type": "markdown",
   "id": "4439587a",
   "metadata": {},
   "source": [
    "#### Loading config parameters"
   ]
  },
  {
   "cell_type": "code",
   "execution_count": 26,
   "id": "80fb702e",
   "metadata": {},
   "outputs": [],
   "source": [
    "params_path = \"../config/argentina_parameters.json\""
   ]
  },
  {
   "cell_type": "code",
   "execution_count": 27,
   "id": "9bb30b52",
   "metadata": {},
   "outputs": [],
   "source": [
    "with open(params_path, \"r\") as fp:\n",
    "    params = yaml.safe_load(fp)"
   ]
  },
  {
   "cell_type": "code",
   "execution_count": 5,
   "id": "162f8aa5",
   "metadata": {},
   "outputs": [
    {
     "data": {
      "text/plain": [
       "{'dataset': {'country': 'argentina',\n",
       "  'sales_org': 'AR00',\n",
       "  'grouping_cols': ['cust_id',\n",
       "   'city',\n",
       "   'customer_classification',\n",
       "   'subsector',\n",
       "   'category',\n",
       "   'brand',\n",
       "   'product_key'],\n",
       "  'product_features_cols': ['product_key', 'subsector', 'category', 'brand'],\n",
       "  'customer_features_cols': ['cust_id', 'city', 'customer_classification'],\n",
       "  'columns': [],\n",
       "  'column_to_predict': 'target',\n",
       "  'columns_with_attr': [],\n",
       "  'test_size': 0.2,\n",
       "  'nfolds': 3,\n",
       "  'num_samples': 5,\n",
       "  'num_threads': 1,\n",
       "  'recency': 180},\n",
       " 'models': {}}"
      ]
     },
     "execution_count": 5,
     "metadata": {},
     "output_type": "execute_result"
    }
   ],
   "source": [
    "params"
   ]
  },
  {
   "cell_type": "markdown",
   "id": "22241984",
   "metadata": {},
   "source": [
    "#### Read joined dataset"
   ]
  },
  {
   "cell_type": "code",
   "execution_count": 28,
   "id": "dd89c0f7",
   "metadata": {},
   "outputs": [],
   "source": [
    "df_joined = pd.read_csv(\"gs://pg-explore/data/sample_dataset/intermediate/joined/df_joined_Argentina.csv\", storage_options={\"token\":\"/mnt/d/PnG/keys/tiger-mle-8c54fa5ce18f.json\"})"
   ]
  },
  {
   "cell_type": "code",
   "execution_count": 29,
   "id": "eb3e9290",
   "metadata": {
    "scrolled": true
   },
   "outputs": [
    {
     "data": {
      "text/html": [
       "<div>\n",
       "<style scoped>\n",
       "    .dataframe tbody tr th:only-of-type {\n",
       "        vertical-align: middle;\n",
       "    }\n",
       "\n",
       "    .dataframe tbody tr th {\n",
       "        vertical-align: top;\n",
       "    }\n",
       "\n",
       "    .dataframe thead th {\n",
       "        text-align: right;\n",
       "    }\n",
       "</style>\n",
       "<table border=\"1\" class=\"dataframe\">\n",
       "  <thead>\n",
       "    <tr style=\"text-align: right;\">\n",
       "      <th></th>\n",
       "      <th>Unnamed: 0</th>\n",
       "      <th>sales_org</th>\n",
       "      <th>cust_id</th>\n",
       "      <th>sales_order_number</th>\n",
       "      <th>sales_document_date</th>\n",
       "      <th>product_key</th>\n",
       "      <th>order_qty</th>\n",
       "      <th>net_value</th>\n",
       "      <th>total</th>\n",
       "      <th>order_uom</th>\n",
       "      <th>...</th>\n",
       "      <th>assortment_groups</th>\n",
       "      <th>customer_classification</th>\n",
       "      <th>subsector</th>\n",
       "      <th>subsector_id</th>\n",
       "      <th>category</th>\n",
       "      <th>category_id</th>\n",
       "      <th>brand</th>\n",
       "      <th>brand_id</th>\n",
       "      <th>item_gtin</th>\n",
       "      <th>prod_name</th>\n",
       "    </tr>\n",
       "  </thead>\n",
       "  <tbody>\n",
       "    <tr>\n",
       "      <th>0</th>\n",
       "      <td>0</td>\n",
       "      <td>Argentina</td>\n",
       "      <td>63000659</td>\n",
       "      <td>1037305840</td>\n",
       "      <td>2019-08-31</td>\n",
       "      <td>39144</td>\n",
       "      <td>1579</td>\n",
       "      <td>198261</td>\n",
       "      <td>34059</td>\n",
       "      <td>value_one</td>\n",
       "      <td>...</td>\n",
       "      <td>574</td>\n",
       "      <td>16</td>\n",
       "      <td>1</td>\n",
       "      <td>1</td>\n",
       "      <td>44</td>\n",
       "      <td>44</td>\n",
       "      <td>22</td>\n",
       "      <td>22</td>\n",
       "      <td>994</td>\n",
       "      <td>994</td>\n",
       "    </tr>\n",
       "    <tr>\n",
       "      <th>1</th>\n",
       "      <td>1</td>\n",
       "      <td>Argentina</td>\n",
       "      <td>63000269</td>\n",
       "      <td>1037344309</td>\n",
       "      <td>2021-03-26</td>\n",
       "      <td>39144</td>\n",
       "      <td>1166</td>\n",
       "      <td>114493</td>\n",
       "      <td>28226</td>\n",
       "      <td>value_one</td>\n",
       "      <td>...</td>\n",
       "      <td>184</td>\n",
       "      <td>4</td>\n",
       "      <td>1</td>\n",
       "      <td>1</td>\n",
       "      <td>44</td>\n",
       "      <td>44</td>\n",
       "      <td>22</td>\n",
       "      <td>22</td>\n",
       "      <td>994</td>\n",
       "      <td>994</td>\n",
       "    </tr>\n",
       "    <tr>\n",
       "      <th>2</th>\n",
       "      <td>2</td>\n",
       "      <td>Argentina</td>\n",
       "      <td>63000678</td>\n",
       "      <td>1037343942</td>\n",
       "      <td>2020-06-29</td>\n",
       "      <td>39144</td>\n",
       "      <td>1711</td>\n",
       "      <td>137972</td>\n",
       "      <td>38747</td>\n",
       "      <td>value_one</td>\n",
       "      <td>...</td>\n",
       "      <td>593</td>\n",
       "      <td>17</td>\n",
       "      <td>1</td>\n",
       "      <td>1</td>\n",
       "      <td>44</td>\n",
       "      <td>44</td>\n",
       "      <td>22</td>\n",
       "      <td>22</td>\n",
       "      <td>994</td>\n",
       "      <td>994</td>\n",
       "    </tr>\n",
       "    <tr>\n",
       "      <th>3</th>\n",
       "      <td>3</td>\n",
       "      <td>Argentina</td>\n",
       "      <td>63000282</td>\n",
       "      <td>1037307772</td>\n",
       "      <td>2019-12-26</td>\n",
       "      <td>39144</td>\n",
       "      <td>2193</td>\n",
       "      <td>152942</td>\n",
       "      <td>11309</td>\n",
       "      <td>value_one</td>\n",
       "      <td>...</td>\n",
       "      <td>197</td>\n",
       "      <td>17</td>\n",
       "      <td>1</td>\n",
       "      <td>1</td>\n",
       "      <td>44</td>\n",
       "      <td>44</td>\n",
       "      <td>22</td>\n",
       "      <td>22</td>\n",
       "      <td>994</td>\n",
       "      <td>994</td>\n",
       "    </tr>\n",
       "    <tr>\n",
       "      <th>4</th>\n",
       "      <td>4</td>\n",
       "      <td>Argentina</td>\n",
       "      <td>63000699</td>\n",
       "      <td>1037329902</td>\n",
       "      <td>2020-03-10</td>\n",
       "      <td>39144</td>\n",
       "      <td>2095</td>\n",
       "      <td>52454</td>\n",
       "      <td>27578</td>\n",
       "      <td>value_one</td>\n",
       "      <td>...</td>\n",
       "      <td>614</td>\n",
       "      <td>2</td>\n",
       "      <td>1</td>\n",
       "      <td>1</td>\n",
       "      <td>44</td>\n",
       "      <td>44</td>\n",
       "      <td>22</td>\n",
       "      <td>22</td>\n",
       "      <td>994</td>\n",
       "      <td>994</td>\n",
       "    </tr>\n",
       "  </tbody>\n",
       "</table>\n",
       "<p>5 rows × 22 columns</p>\n",
       "</div>"
      ],
      "text/plain": [
       "   Unnamed: 0  sales_org   cust_id  sales_order_number sales_document_date  \\\n",
       "0           0  Argentina  63000659          1037305840          2019-08-31   \n",
       "1           1  Argentina  63000269          1037344309          2021-03-26   \n",
       "2           2  Argentina  63000678          1037343942          2020-06-29   \n",
       "3           3  Argentina  63000282          1037307772          2019-12-26   \n",
       "4           4  Argentina  63000699          1037329902          2020-03-10   \n",
       "\n",
       "   product_key  order_qty  net_value  total  order_uom  ... assortment_groups  \\\n",
       "0        39144       1579     198261  34059  value_one  ...               574   \n",
       "1        39144       1166     114493  28226  value_one  ...               184   \n",
       "2        39144       1711     137972  38747  value_one  ...               593   \n",
       "3        39144       2193     152942  11309  value_one  ...               197   \n",
       "4        39144       2095      52454  27578  value_one  ...               614   \n",
       "\n",
       "   customer_classification  subsector  subsector_id  category  category_id  \\\n",
       "0                       16          1             1        44           44   \n",
       "1                        4          1             1        44           44   \n",
       "2                       17          1             1        44           44   \n",
       "3                       17          1             1        44           44   \n",
       "4                        2          1             1        44           44   \n",
       "\n",
       "   brand  brand_id  item_gtin  prod_name  \n",
       "0     22        22        994        994  \n",
       "1     22        22        994        994  \n",
       "2     22        22        994        994  \n",
       "3     22        22        994        994  \n",
       "4     22        22        994        994  \n",
       "\n",
       "[5 rows x 22 columns]"
      ]
     },
     "execution_count": 29,
     "metadata": {},
     "output_type": "execute_result"
    }
   ],
   "source": [
    "df_joined.head()"
   ]
  },
  {
   "cell_type": "markdown",
   "id": "0d1d78dc",
   "metadata": {},
   "source": [
    "### Preprocessing logic"
   ]
  },
  {
   "cell_type": "code",
   "execution_count": 30,
   "id": "7be1c777",
   "metadata": {},
   "outputs": [],
   "source": [
    "def aggregate_per_grouping_col(df_joined, params):\n",
    "    \"\"\"To do.\"\"\"\n",
    "    df_prod = df_joined.groupby(params[\"dataset\"][\"grouping_cols\"]) \\\n",
    "        .agg({\"order_qty\": \"size\", \"net_value\": \"sum\"}).reset_index()\n",
    "    df_prod = df_prod.rename(columns={\"order_qty\": \"order_freq\"})\n",
    "    return df_prod\n",
    "\n",
    "\n",
    "def get_rating_sku_storemaster_data(df_prod, params):\n",
    "    \"\"\"To do.\"\"\"\n",
    "    df_rating = df_prod[[\"cust_id\", \"product_key\", \"order_freq\"]] \\\n",
    "        .rename(columns={\"cust_id\": \"store\", \"product_key\": \"sku\", \"order_freq\": \"rating\"})\n",
    "    df_skumaster = df_prod[params[\"dataset\"][\"product_features_cols\"]] \\\n",
    "        .set_index(\"product_key\")\n",
    "    df_storemaster = df_prod[params[\"dataset\"][\"customer_features_cols\"]] \\\n",
    "        .set_index(\"cust_id\")\n",
    "    return df_rating, df_skumaster, df_storemaster\n",
    "\n",
    "\n",
    "def compute_positive_ratings(df_rating):\n",
    "    \"\"\"To do.\"\"\"\n",
    "    from do_it.nbsku import ProcessRatings\n",
    "    df_positive = ProcessRatings(df_rating[[\"store\", \"sku\"]], rating=False) \\\n",
    "        .threshold_purchases().df_rating\n",
    "    return df_positive\n",
    "\n",
    "\n",
    "def build_inputs(df_rating, df_storemaster, df_skumaster):\n",
    "    \"\"\"To do.\"\"\"\n",
    "    from do_it.nbsku import InputsBuilder\n",
    "    df_dataset, user_feature_matrix, item_feature_matrix = InputsBuilder(\n",
    "        df_rating,\n",
    "        df_storemaster=df_storemaster[df_storemaster.index.isin(df_rating[\"store\"])],\n",
    "        df_skumaster=df_skumaster[df_skumaster.index.isin(df_rating[\"sku\"])]).build()\n",
    "    return df_dataset, user_feature_matrix, item_feature_matrix"
   ]
  },
  {
   "cell_type": "code",
   "execution_count": 31,
   "id": "5362a204",
   "metadata": {},
   "outputs": [],
   "source": [
    "df_prod = aggregate_per_grouping_col(df_joined, params)"
   ]
  },
  {
   "cell_type": "code",
   "execution_count": 45,
   "id": "030a8cfd",
   "metadata": {},
   "outputs": [
    {
     "data": {
      "text/html": [
       "<div>\n",
       "<style scoped>\n",
       "    .dataframe tbody tr th:only-of-type {\n",
       "        vertical-align: middle;\n",
       "    }\n",
       "\n",
       "    .dataframe tbody tr th {\n",
       "        vertical-align: top;\n",
       "    }\n",
       "\n",
       "    .dataframe thead th {\n",
       "        text-align: right;\n",
       "    }\n",
       "</style>\n",
       "<table border=\"1\" class=\"dataframe\">\n",
       "  <thead>\n",
       "    <tr style=\"text-align: right;\">\n",
       "      <th></th>\n",
       "      <th>cust_id</th>\n",
       "      <th>city</th>\n",
       "      <th>customer_classification</th>\n",
       "      <th>subsector</th>\n",
       "      <th>category</th>\n",
       "      <th>brand</th>\n",
       "      <th>product_key</th>\n",
       "      <th>order_freq</th>\n",
       "      <th>net_value</th>\n",
       "    </tr>\n",
       "  </thead>\n",
       "  <tbody>\n",
       "    <tr>\n",
       "      <th>0</th>\n",
       "      <td>63000086</td>\n",
       "      <td>1</td>\n",
       "      <td>1</td>\n",
       "      <td>1</td>\n",
       "      <td>1</td>\n",
       "      <td>1</td>\n",
       "      <td>38151</td>\n",
       "      <td>1</td>\n",
       "      <td>189620</td>\n",
       "    </tr>\n",
       "    <tr>\n",
       "      <th>1</th>\n",
       "      <td>63000086</td>\n",
       "      <td>1</td>\n",
       "      <td>1</td>\n",
       "      <td>1</td>\n",
       "      <td>1</td>\n",
       "      <td>77</td>\n",
       "      <td>38551</td>\n",
       "      <td>1</td>\n",
       "      <td>136636</td>\n",
       "    </tr>\n",
       "    <tr>\n",
       "      <th>2</th>\n",
       "      <td>63000086</td>\n",
       "      <td>1</td>\n",
       "      <td>1</td>\n",
       "      <td>1</td>\n",
       "      <td>1</td>\n",
       "      <td>101</td>\n",
       "      <td>38251</td>\n",
       "      <td>1</td>\n",
       "      <td>165103</td>\n",
       "    </tr>\n",
       "    <tr>\n",
       "      <th>3</th>\n",
       "      <td>63000086</td>\n",
       "      <td>1</td>\n",
       "      <td>1</td>\n",
       "      <td>1</td>\n",
       "      <td>1</td>\n",
       "      <td>115</td>\n",
       "      <td>38751</td>\n",
       "      <td>1</td>\n",
       "      <td>125417</td>\n",
       "    </tr>\n",
       "    <tr>\n",
       "      <th>4</th>\n",
       "      <td>63000086</td>\n",
       "      <td>1</td>\n",
       "      <td>1</td>\n",
       "      <td>1</td>\n",
       "      <td>1</td>\n",
       "      <td>139</td>\n",
       "      <td>38451</td>\n",
       "      <td>1</td>\n",
       "      <td>175216</td>\n",
       "    </tr>\n",
       "  </tbody>\n",
       "</table>\n",
       "</div>"
      ],
      "text/plain": [
       "    cust_id  city  customer_classification  subsector  category  brand  \\\n",
       "0  63000086     1                        1          1         1      1   \n",
       "1  63000086     1                        1          1         1     77   \n",
       "2  63000086     1                        1          1         1    101   \n",
       "3  63000086     1                        1          1         1    115   \n",
       "4  63000086     1                        1          1         1    139   \n",
       "\n",
       "   product_key  order_freq  net_value  \n",
       "0        38151           1     189620  \n",
       "1        38551           1     136636  \n",
       "2        38251           1     165103  \n",
       "3        38751           1     125417  \n",
       "4        38451           1     175216  "
      ]
     },
     "execution_count": 45,
     "metadata": {},
     "output_type": "execute_result"
    }
   ],
   "source": [
    "df_prod.head()"
   ]
  },
  {
   "cell_type": "code",
   "execution_count": 33,
   "id": "461e0871",
   "metadata": {},
   "outputs": [],
   "source": [
    "df_rating, df_skumaster, df_storemaster = get_rating_sku_storemaster_data(\n",
    "                df_prod, params)"
   ]
  },
  {
   "cell_type": "code",
   "execution_count": 48,
   "id": "aa93cb85",
   "metadata": {},
   "outputs": [
    {
     "data": {
      "text/html": [
       "<div>\n",
       "<style scoped>\n",
       "    .dataframe tbody tr th:only-of-type {\n",
       "        vertical-align: middle;\n",
       "    }\n",
       "\n",
       "    .dataframe tbody tr th {\n",
       "        vertical-align: top;\n",
       "    }\n",
       "\n",
       "    .dataframe thead th {\n",
       "        text-align: right;\n",
       "    }\n",
       "</style>\n",
       "<table border=\"1\" class=\"dataframe\">\n",
       "  <thead>\n",
       "    <tr style=\"text-align: right;\">\n",
       "      <th></th>\n",
       "      <th>store</th>\n",
       "      <th>sku</th>\n",
       "      <th>rating</th>\n",
       "    </tr>\n",
       "  </thead>\n",
       "  <tbody>\n",
       "    <tr>\n",
       "      <th>0</th>\n",
       "      <td>63000086</td>\n",
       "      <td>38151</td>\n",
       "      <td>1</td>\n",
       "    </tr>\n",
       "    <tr>\n",
       "      <th>1</th>\n",
       "      <td>63000086</td>\n",
       "      <td>38551</td>\n",
       "      <td>1</td>\n",
       "    </tr>\n",
       "    <tr>\n",
       "      <th>2</th>\n",
       "      <td>63000086</td>\n",
       "      <td>38251</td>\n",
       "      <td>1</td>\n",
       "    </tr>\n",
       "    <tr>\n",
       "      <th>3</th>\n",
       "      <td>63000086</td>\n",
       "      <td>38751</td>\n",
       "      <td>1</td>\n",
       "    </tr>\n",
       "    <tr>\n",
       "      <th>4</th>\n",
       "      <td>63000086</td>\n",
       "      <td>38451</td>\n",
       "      <td>1</td>\n",
       "    </tr>\n",
       "    <tr>\n",
       "      <th>...</th>\n",
       "      <td>...</td>\n",
       "      <td>...</td>\n",
       "      <td>...</td>\n",
       "    </tr>\n",
       "    <tr>\n",
       "      <th>286161</th>\n",
       "      <td>63000872</td>\n",
       "      <td>38175</td>\n",
       "      <td>1</td>\n",
       "    </tr>\n",
       "    <tr>\n",
       "      <th>286162</th>\n",
       "      <td>63000872</td>\n",
       "      <td>39120</td>\n",
       "      <td>1</td>\n",
       "    </tr>\n",
       "    <tr>\n",
       "      <th>286163</th>\n",
       "      <td>63000872</td>\n",
       "      <td>38829</td>\n",
       "      <td>1</td>\n",
       "    </tr>\n",
       "    <tr>\n",
       "      <th>286164</th>\n",
       "      <td>63000872</td>\n",
       "      <td>38344</td>\n",
       "      <td>1</td>\n",
       "    </tr>\n",
       "    <tr>\n",
       "      <th>286165</th>\n",
       "      <td>63000872</td>\n",
       "      <td>38247</td>\n",
       "      <td>1</td>\n",
       "    </tr>\n",
       "  </tbody>\n",
       "</table>\n",
       "<p>286166 rows × 3 columns</p>\n",
       "</div>"
      ],
      "text/plain": [
       "           store    sku  rating\n",
       "0       63000086  38151       1\n",
       "1       63000086  38551       1\n",
       "2       63000086  38251       1\n",
       "3       63000086  38751       1\n",
       "4       63000086  38451       1\n",
       "...          ...    ...     ...\n",
       "286161  63000872  38175       1\n",
       "286162  63000872  39120       1\n",
       "286163  63000872  38829       1\n",
       "286164  63000872  38344       1\n",
       "286165  63000872  38247       1\n",
       "\n",
       "[286166 rows x 3 columns]"
      ]
     },
     "execution_count": 48,
     "metadata": {},
     "output_type": "execute_result"
    }
   ],
   "source": [
    "df_rating"
   ]
  },
  {
   "cell_type": "code",
   "execution_count": 51,
   "id": "63727103",
   "metadata": {},
   "outputs": [],
   "source": [
    "df_rating = df_rating.drop_duplicates(subset=['store', 'sku'])"
   ]
  },
  {
   "cell_type": "code",
   "execution_count": 36,
   "id": "fa017546",
   "metadata": {},
   "outputs": [
    {
     "data": {
      "text/plain": [
       "store     286166\n",
       "sku       286166\n",
       "rating    286166\n",
       "dtype: int64"
      ]
     },
     "execution_count": 36,
     "metadata": {},
     "output_type": "execute_result"
    }
   ],
   "source": [
    "df_rating.count()"
   ]
  },
  {
   "cell_type": "code",
   "execution_count": 52,
   "id": "de7244d2",
   "metadata": {
    "scrolled": true
   },
   "outputs": [],
   "source": [
    "df_positive = compute_positive_ratings(df_rating)"
   ]
  },
  {
   "cell_type": "code",
   "execution_count": 54,
   "id": "6fcd7f46",
   "metadata": {},
   "outputs": [],
   "source": [
    "df_dataset, user_feature_matrix, item_feature_matrix = build_inputs(\n",
    "                df_rating, df_storemaster, df_skumaster)"
   ]
  },
  {
   "cell_type": "code",
   "execution_count": 56,
   "id": "b391957f",
   "metadata": {},
   "outputs": [
    {
     "data": {
      "text/plain": [
       "<lightfm.data.Dataset at 0x7f69adb6b700>"
      ]
     },
     "execution_count": 56,
     "metadata": {},
     "output_type": "execute_result"
    }
   ],
   "source": [
    "df_dataset"
   ]
  },
  {
   "cell_type": "code",
   "execution_count": 57,
   "id": "b6948728",
   "metadata": {},
   "outputs": [
    {
     "data": {
      "text/plain": [
       "<525x527 sparse matrix of type '<class 'numpy.float32'>'\n",
       "\twith 1575 stored elements in Compressed Sparse Row format>"
      ]
     },
     "execution_count": 57,
     "metadata": {},
     "output_type": "execute_result"
    }
   ],
   "source": [
    "user_feature_matrix"
   ]
  },
  {
   "cell_type": "code",
   "execution_count": 58,
   "id": "67cf4028",
   "metadata": {},
   "outputs": [
    {
     "data": {
      "text/plain": [
       "<824x827 sparse matrix of type '<class 'numpy.float32'>'\n",
       "\twith 3296 stored elements in Compressed Sparse Row format>"
      ]
     },
     "execution_count": 58,
     "metadata": {},
     "output_type": "execute_result"
    }
   ],
   "source": [
    "item_feature_matrix"
   ]
  },
  {
   "cell_type": "markdown",
   "id": "0b23b8fd",
   "metadata": {},
   "source": [
    "#### Saving interim dataset for training"
   ]
  },
  {
   "cell_type": "code",
   "execution_count": 59,
   "id": "66a994ee",
   "metadata": {},
   "outputs": [],
   "source": [
    "dict_prod = {}\n",
    "dict_positive = {}\n",
    "dict_dataset = {}\n",
    "dict_user_feature_matrix = {}\n",
    "dict_item_feature_matrix = {}\n",
    "country = \"Argentina\""
   ]
  },
  {
   "cell_type": "code",
   "execution_count": 61,
   "id": "7fca2999",
   "metadata": {},
   "outputs": [],
   "source": [
    "dict_prod[country] = df_prod\n",
    "dict_positive[country] = df_positive\n",
    "dict_dataset[country] = df_dataset\n",
    "dict_user_feature_matrix[country] = user_feature_matrix\n",
    "dict_item_feature_matrix[country] = item_feature_matrix"
   ]
  },
  {
   "cell_type": "code",
   "execution_count": null,
   "id": "663be3ba",
   "metadata": {},
   "outputs": [],
   "source": [
    "\n",
    "with customers_fs.open(customer_overview_path) as customers:\n",
    "    df_customer_overview = pd.read_csv(customers)"
   ]
  },
  {
   "cell_type": "code",
   "execution_count": 70,
   "id": "94ff8de7",
   "metadata": {},
   "outputs": [],
   "source": [
    "import pickle\n",
    "import gcsfs\n",
    "\n",
    "def register_interim_dataset(data, dataset_name):\n",
    "    if isinstance(data, (dict, list)):\n",
    "        interim_fs = gcsfs.GCSFileSystem(project= \"tiger-mle\", token=\"/mnt/d/PnG/keys/tiger-mle-8c54fa5ce18f.json\")\n",
    "        pickle_file = f\"gs://pg-explore/data/magento/interim/{dataset_name}.pkl\"\n",
    "        with interim_fs.open(pickle_file, \"wb\") as interim_dataset_pickle:\n",
    "            pickle.dump(data, interim_dataset_pickle)"
   ]
  },
  {
   "cell_type": "code",
   "execution_count": 71,
   "id": "b5a1c585",
   "metadata": {},
   "outputs": [],
   "source": [
    "register_interim_dataset(dict_positive, \"dict_positive\")\n",
    "register_interim_dataset(dict_prod, \"dict_prod\")\n",
    "register_interim_dataset(dict_dataset, \"dict_dataset\")\n",
    "register_interim_dataset(dict_user_feature_matrix, \"dict_user_feature_matrix\")\n",
    "register_interim_dataset(dict_item_feature_matrix, \"dict_item_feature_matrix\")"
   ]
  }
 ],
 "metadata": {
  "kernelspec": {
   "display_name": "pg_synthetics",
   "language": "python",
   "name": "pg_synthetics"
  },
  "language_info": {
   "codemirror_mode": {
    "name": "ipython",
    "version": 3
   },
   "file_extension": ".py",
   "mimetype": "text/x-python",
   "name": "python",
   "nbconvert_exporter": "python",
   "pygments_lexer": "ipython3",
   "version": "3.8.12"
  }
 },
 "nbformat": 4,
 "nbformat_minor": 5
}

{
 "cells": [
  {
   "cell_type": "code",
   "execution_count": 1,
   "id": "3214c72b",
   "metadata": {},
   "outputs": [],
   "source": [
    "import gcsfs\n",
    "import pandas as pd"
   ]
  },
  {
   "cell_type": "code",
   "execution_count": 2,
   "id": "b5535b58",
   "metadata": {},
   "outputs": [
    {
     "data": {
      "text/plain": [
       "'1.3.5'"
      ]
     },
     "execution_count": 2,
     "metadata": {},
     "output_type": "execute_result"
    }
   ],
   "source": [
    "pd.__version__"
   ]
  },
  {
   "cell_type": "code",
   "execution_count": 25,
   "id": "61fcde2d",
   "metadata": {},
   "outputs": [],
   "source": [
    "customer_overview_path = \"gs://pg-explore/data/magento/OneMillionDataset/Customer_Table1k.csv/part-00000-3c8424df-7f2a-4880-a7a0-fd9d5b71868d-c000.csv\"\n",
    "products_overview_path = \"gs://pg-explore/data/magento/OneMillionDataset/Product1k_coalesce.csv/part-00000-d60ccfcd-fce3-4747-b88c-6ac6f5bb4e19-c000.csv\"\n",
    "oders_history_path = \"gs://pg-explore/data/magento/OneMillionDataset/Order_coalesce1M.csv/part-00000-1906bbca-26b1-48f7-8c75-14735d4d1772-c000.csv\""
   ]
  },
  {
   "cell_type": "markdown",
   "id": "597d3e7a",
   "metadata": {},
   "source": [
    "#### Transformation logic"
   ]
  },
  {
   "cell_type": "code",
   "execution_count": 26,
   "id": "6d688239",
   "metadata": {},
   "outputs": [],
   "source": [
    "def transform_order_data(df_order):\n",
    "    \"\"\"To do.\"\"\"\n",
    "    # convert datatime\n",
    "#     df_order[\"sales_document_date\"] = df_order[\"sales_document_date\"] \\\n",
    "#         .astype(str).apply(lambda x: x[:4]+\"-\"+x[4:6]+\"-\"+x[6:])\n",
    "    df_order[\"sales_document_date\"] = pd.to_datetime(df_order[\"sales_document_date\"])\n",
    "\n",
    "    # keep processing, shipped or partially shipped orders, filter on-hold and cancelled orders\n",
    "    df_order = df_order[df_order[\"order_header_status\"]\n",
    "                        .isin([\"Shipped\", \"Partially Shipped\", \"Processing\"])]\n",
    "\n",
    "    # consolidate duplicated orders and keep selected fields\n",
    "    cols = [\"sales_organization\", \"sales_order_number\", \"sales_document_date\",\n",
    "            \"sold_to_party\", \"product_key\"]\n",
    "    df_order = df_order.groupby(cols).agg({\"order_qty\": \"sum\", \"net_value\":\n",
    "                                           \"sum\", \"total\": \"first\", \"order_uom\": \"first\",\n",
    "                                           \"order_header_status\": \"first\"}).reset_index()\n",
    "\n",
    "    # rename columns and keep only columns needed\n",
    "    df_order = df_order.rename(columns={\"sales_organization\": \"sales_org\",\n",
    "                                        \"sold_to_party\": \"cust_id\"})\n",
    "\n",
    "    order_cols = [\"sales_org\", \"cust_id\", \"sales_order_number\", \"sales_document_date\",\n",
    "                  \"product_key\", \"order_qty\", \"net_value\", \"total\", \"order_uom\",\n",
    "                  \"order_header_status\"]\n",
    "\n",
    "    df_order = df_order[order_cols]\n",
    "\n",
    "\n",
    "    return df_order\n",
    "\n",
    "\n",
    "def transform_customer_overview(df_customer_overview):\n",
    "    \"\"\"To do.\"\"\"\n",
    "    customeroverview_cols = [\"sales_org\", \"cust_id\", \"city\", \"assortment_groups\",\n",
    "                             \"customer_classification\"]\n",
    "    df_customer_overview = df_customer_overview[customeroverview_cols]\n",
    "    return df_customer_overview\n",
    "\n",
    "\n",
    "def transform_product_overview(df_product_overview):\n",
    "    \"\"\"To do.\"\"\"\n",
    "    productoverview_cols = [\"sales_org\", \"product_key\",\n",
    "                            \"subsector\", \"subsector_id\", \"category\", \"category_id\", \"brand\",\n",
    "                            \"brand_id\", \"item_gtin\", \"prod_name\"]\n",
    "    df_product_overview = df_product_overview[productoverview_cols]\n",
    "    return df_product_overview"
   ]
  },
  {
   "cell_type": "markdown",
   "id": "0fb39445",
   "metadata": {},
   "source": [
    "### Joining orders, customer_overview and product_overview"
   ]
  },
  {
   "cell_type": "code",
   "execution_count": 27,
   "id": "f3dc1934",
   "metadata": {},
   "outputs": [],
   "source": [
    "def create_joined_data(df_order, df_customer_overview, df_product_overview):\n",
    "    \"\"\"To do.\"\"\"\n",
    "    df_joined = df_order.merge(df_customer_overview, on=[\"sales_org\", \"cust_id\"]) \\\n",
    "        .merge(df_product_overview, on=[\"sales_org\", \"product_key\"])\n",
    "    return df_joined"
   ]
  },
  {
   "cell_type": "markdown",
   "id": "e3112cf6",
   "metadata": {},
   "source": [
    "#### Loading customer data"
   ]
  },
  {
   "cell_type": "code",
   "execution_count": 28,
   "id": "976047b1",
   "metadata": {},
   "outputs": [],
   "source": [
    "customers_fs = gcsfs.GCSFileSystem(project= \"tiger-mle\", token=\"/mnt/d/PnG/keys/tiger-mle-8c54fa5ce18f.json\")\n",
    "with customers_fs.open(customer_overview_path) as customers:\n",
    "    df_customer_overview = pd.read_csv(customers)"
   ]
  },
  {
   "cell_type": "markdown",
   "id": "51d9a96b",
   "metadata": {},
   "source": [
    "#### Loading order history data"
   ]
  },
  {
   "cell_type": "code",
   "execution_count": 29,
   "id": "a9a554fb",
   "metadata": {},
   "outputs": [],
   "source": [
    "orders_fs = gcsfs.GCSFileSystem(project= \"tiger-mle\", token=\"/mnt/d/PnG/keys/tiger-mle-8c54fa5ce18f.json\")\n",
    "with orders_fs.open(oders_history_path) as orders:\n",
    "    df_order = pd.read_csv(orders)"
   ]
  },
  {
   "cell_type": "markdown",
   "id": "4282b9d4",
   "metadata": {},
   "source": [
    "#### Loading prodcuts data"
   ]
  },
  {
   "cell_type": "code",
   "execution_count": 30,
   "id": "43a23cc9",
   "metadata": {},
   "outputs": [],
   "source": [
    "products_fs = gcsfs.GCSFileSystem(project= \"tiger-mle\", token=\"/mnt/d/PnG/keys/tiger-mle-8c54fa5ce18f.json\")\n",
    "with products_fs.open(products_overview_path) as products:\n",
    "    df_product_overview = pd.read_csv(products)"
   ]
  },
  {
   "cell_type": "code",
   "execution_count": 31,
   "id": "5d644550",
   "metadata": {},
   "outputs": [],
   "source": [
    "df_order = transform_order_data(df_order)"
   ]
  },
  {
   "cell_type": "code",
   "execution_count": 24,
   "id": "f18823a9",
   "metadata": {
    "scrolled": true
   },
   "outputs": [
    {
     "data": {
      "text/plain": [
       "0         6300659\n",
       "1         6300343\n",
       "2         6300382\n",
       "3         6300619\n",
       "4         6300355\n",
       "           ...   \n",
       "868321    6300473\n",
       "868322    6300307\n",
       "868323    6300459\n",
       "868324    6300757\n",
       "868325    6300761\n",
       "Name: cust_id, Length: 868326, dtype: int64"
      ]
     },
     "execution_count": 24,
     "metadata": {},
     "output_type": "execute_result"
    }
   ],
   "source": [
    "df_order['cust_id']"
   ]
  },
  {
   "cell_type": "code",
   "execution_count": 32,
   "id": "5bd5a4ff",
   "metadata": {},
   "outputs": [],
   "source": [
    "df_customer_overview = transform_customer_overview(df_customer_overview)"
   ]
  },
  {
   "cell_type": "code",
   "execution_count": 33,
   "id": "9f0e4a12",
   "metadata": {},
   "outputs": [],
   "source": [
    "df_product_overview = transform_product_overview(df_product_overview)"
   ]
  },
  {
   "cell_type": "code",
   "execution_count": 22,
   "id": "5d9d9601",
   "metadata": {},
   "outputs": [
    {
     "data": {
      "text/html": [
       "<div>\n",
       "<style scoped>\n",
       "    .dataframe tbody tr th:only-of-type {\n",
       "        vertical-align: middle;\n",
       "    }\n",
       "\n",
       "    .dataframe tbody tr th {\n",
       "        vertical-align: top;\n",
       "    }\n",
       "\n",
       "    .dataframe thead th {\n",
       "        text-align: right;\n",
       "    }\n",
       "</style>\n",
       "<table border=\"1\" class=\"dataframe\">\n",
       "  <thead>\n",
       "    <tr style=\"text-align: right;\">\n",
       "      <th></th>\n",
       "      <th>sales_org</th>\n",
       "      <th>cust_id</th>\n",
       "      <th>city</th>\n",
       "      <th>assortment_groups</th>\n",
       "      <th>customer_classification</th>\n",
       "    </tr>\n",
       "  </thead>\n",
       "  <tbody>\n",
       "    <tr>\n",
       "      <th>0</th>\n",
       "      <td>Argentina</td>\n",
       "      <td>63000086</td>\n",
       "      <td>1</td>\n",
       "      <td>1</td>\n",
       "      <td>1</td>\n",
       "    </tr>\n",
       "    <tr>\n",
       "      <th>1</th>\n",
       "      <td>Argentina</td>\n",
       "      <td>63000087</td>\n",
       "      <td>2</td>\n",
       "      <td>2</td>\n",
       "      <td>2</td>\n",
       "    </tr>\n",
       "    <tr>\n",
       "      <th>2</th>\n",
       "      <td>Brazil</td>\n",
       "      <td>63000088</td>\n",
       "      <td>3</td>\n",
       "      <td>3</td>\n",
       "      <td>3</td>\n",
       "    </tr>\n",
       "    <tr>\n",
       "      <th>3</th>\n",
       "      <td>Argentina</td>\n",
       "      <td>63000089</td>\n",
       "      <td>4</td>\n",
       "      <td>4</td>\n",
       "      <td>4</td>\n",
       "    </tr>\n",
       "    <tr>\n",
       "      <th>4</th>\n",
       "      <td>Argentina</td>\n",
       "      <td>63000090</td>\n",
       "      <td>5</td>\n",
       "      <td>5</td>\n",
       "      <td>5</td>\n",
       "    </tr>\n",
       "    <tr>\n",
       "      <th>...</th>\n",
       "      <td>...</td>\n",
       "      <td>...</td>\n",
       "      <td>...</td>\n",
       "      <td>...</td>\n",
       "      <td>...</td>\n",
       "    </tr>\n",
       "    <tr>\n",
       "      <th>1178</th>\n",
       "      <td>Brazil</td>\n",
       "      <td>63001264</td>\n",
       "      <td>255</td>\n",
       "      <td>2</td>\n",
       "      <td>9</td>\n",
       "    </tr>\n",
       "    <tr>\n",
       "      <th>1179</th>\n",
       "      <td>Argentina</td>\n",
       "      <td>63001265</td>\n",
       "      <td>256</td>\n",
       "      <td>3</td>\n",
       "      <td>10</td>\n",
       "    </tr>\n",
       "    <tr>\n",
       "      <th>1180</th>\n",
       "      <td>Argentina</td>\n",
       "      <td>63001266</td>\n",
       "      <td>257</td>\n",
       "      <td>4</td>\n",
       "      <td>11</td>\n",
       "    </tr>\n",
       "    <tr>\n",
       "      <th>1181</th>\n",
       "      <td>Brazil</td>\n",
       "      <td>63001267</td>\n",
       "      <td>258</td>\n",
       "      <td>5</td>\n",
       "      <td>12</td>\n",
       "    </tr>\n",
       "    <tr>\n",
       "      <th>1182</th>\n",
       "      <td>Argentina</td>\n",
       "      <td>63001268</td>\n",
       "      <td>259</td>\n",
       "      <td>6</td>\n",
       "      <td>13</td>\n",
       "    </tr>\n",
       "  </tbody>\n",
       "</table>\n",
       "<p>1183 rows × 5 columns</p>\n",
       "</div>"
      ],
      "text/plain": [
       "      sales_org   cust_id  city  assortment_groups  customer_classification\n",
       "0     Argentina  63000086     1                  1                        1\n",
       "1     Argentina  63000087     2                  2                        2\n",
       "2        Brazil  63000088     3                  3                        3\n",
       "3     Argentina  63000089     4                  4                        4\n",
       "4     Argentina  63000090     5                  5                        5\n",
       "...         ...       ...   ...                ...                      ...\n",
       "1178     Brazil  63001264   255                  2                        9\n",
       "1179  Argentina  63001265   256                  3                       10\n",
       "1180  Argentina  63001266   257                  4                       11\n",
       "1181     Brazil  63001267   258                  5                       12\n",
       "1182  Argentina  63001268   259                  6                       13\n",
       "\n",
       "[1183 rows x 5 columns]"
      ]
     },
     "execution_count": 22,
     "metadata": {},
     "output_type": "execute_result"
    }
   ],
   "source": [
    "df_customer_overview"
   ]
  },
  {
   "cell_type": "code",
   "execution_count": 18,
   "id": "5abc134b",
   "metadata": {
    "scrolled": true
   },
   "outputs": [
    {
     "data": {
      "text/html": [
       "<div>\n",
       "<style scoped>\n",
       "    .dataframe tbody tr th:only-of-type {\n",
       "        vertical-align: middle;\n",
       "    }\n",
       "\n",
       "    .dataframe tbody tr th {\n",
       "        vertical-align: top;\n",
       "    }\n",
       "\n",
       "    .dataframe thead th {\n",
       "        text-align: right;\n",
       "    }\n",
       "</style>\n",
       "<table border=\"1\" class=\"dataframe\">\n",
       "  <thead>\n",
       "    <tr style=\"text-align: right;\">\n",
       "      <th></th>\n",
       "      <th>sales_org</th>\n",
       "      <th>product_key</th>\n",
       "      <th>subsector</th>\n",
       "      <th>subsector_id</th>\n",
       "      <th>category</th>\n",
       "      <th>category_id</th>\n",
       "      <th>brand</th>\n",
       "      <th>brand_id</th>\n",
       "      <th>item_gtin</th>\n",
       "      <th>prod_name</th>\n",
       "    </tr>\n",
       "  </thead>\n",
       "  <tbody>\n",
       "    <tr>\n",
       "      <th>0</th>\n",
       "      <td>Argentina</td>\n",
       "      <td>39160</td>\n",
       "      <td>2</td>\n",
       "      <td>2</td>\n",
       "      <td>10</td>\n",
       "      <td>10</td>\n",
       "      <td>38</td>\n",
       "      <td>38</td>\n",
       "      <td>1010</td>\n",
       "      <td>1010</td>\n",
       "    </tr>\n",
       "    <tr>\n",
       "      <th>1</th>\n",
       "      <td>Brazil</td>\n",
       "      <td>39161</td>\n",
       "      <td>2</td>\n",
       "      <td>2</td>\n",
       "      <td>11</td>\n",
       "      <td>11</td>\n",
       "      <td>39</td>\n",
       "      <td>39</td>\n",
       "      <td>1011</td>\n",
       "      <td>1011</td>\n",
       "    </tr>\n",
       "    <tr>\n",
       "      <th>2</th>\n",
       "      <td>Argentina</td>\n",
       "      <td>39162</td>\n",
       "      <td>2</td>\n",
       "      <td>2</td>\n",
       "      <td>12</td>\n",
       "      <td>12</td>\n",
       "      <td>40</td>\n",
       "      <td>40</td>\n",
       "      <td>1012</td>\n",
       "      <td>1012</td>\n",
       "    </tr>\n",
       "    <tr>\n",
       "      <th>3</th>\n",
       "      <td>Argentina</td>\n",
       "      <td>39163</td>\n",
       "      <td>2</td>\n",
       "      <td>2</td>\n",
       "      <td>13</td>\n",
       "      <td>13</td>\n",
       "      <td>41</td>\n",
       "      <td>41</td>\n",
       "      <td>1013</td>\n",
       "      <td>1013</td>\n",
       "    </tr>\n",
       "    <tr>\n",
       "      <th>4</th>\n",
       "      <td>Brazil</td>\n",
       "      <td>39164</td>\n",
       "      <td>2</td>\n",
       "      <td>2</td>\n",
       "      <td>14</td>\n",
       "      <td>14</td>\n",
       "      <td>42</td>\n",
       "      <td>42</td>\n",
       "      <td>1014</td>\n",
       "      <td>1014</td>\n",
       "    </tr>\n",
       "  </tbody>\n",
       "</table>\n",
       "</div>"
      ],
      "text/plain": [
       "   sales_org  product_key  subsector  subsector_id  category  category_id  \\\n",
       "0  Argentina        39160          2             2        10           10   \n",
       "1     Brazil        39161          2             2        11           11   \n",
       "2  Argentina        39162          2             2        12           12   \n",
       "3  Argentina        39163          2             2        13           13   \n",
       "4     Brazil        39164          2             2        14           14   \n",
       "\n",
       "   brand  brand_id  item_gtin  prod_name  \n",
       "0     38        38       1010       1010  \n",
       "1     39        39       1011       1011  \n",
       "2     40        40       1012       1012  \n",
       "3     41        41       1013       1013  \n",
       "4     42        42       1014       1014  "
      ]
     },
     "execution_count": 18,
     "metadata": {},
     "output_type": "execute_result"
    }
   ],
   "source": [
    "df_product_overview.head()"
   ]
  },
  {
   "cell_type": "markdown",
   "id": "cfd22e94",
   "metadata": {},
   "source": [
    "#### Joined data"
   ]
  },
  {
   "cell_type": "code",
   "execution_count": 35,
   "id": "34908821",
   "metadata": {},
   "outputs": [],
   "source": [
    "df_joined = create_joined_data(df_order, df_customer_overview, df_product_overview)"
   ]
  },
  {
   "cell_type": "code",
   "execution_count": 37,
   "id": "9ec6ca92",
   "metadata": {
    "scrolled": true
   },
   "outputs": [
    {
     "data": {
      "text/plain": [
       "sales_org                  356267\n",
       "cust_id                    356267\n",
       "sales_order_number         356267\n",
       "sales_document_date        356267\n",
       "product_key                356267\n",
       "order_qty                  356267\n",
       "net_value                  356267\n",
       "total                      356267\n",
       "order_uom                  356267\n",
       "order_header_status        356267\n",
       "city                       356267\n",
       "assortment_groups          356267\n",
       "customer_classification    356267\n",
       "subsector                  356267\n",
       "subsector_id               356267\n",
       "category                   356267\n",
       "category_id                356267\n",
       "brand                      356267\n",
       "brand_id                   356267\n",
       "item_gtin                  356267\n",
       "prod_name                  356267\n",
       "dtype: int64"
      ]
     },
     "execution_count": 37,
     "metadata": {},
     "output_type": "execute_result"
    }
   ],
   "source": [
    "df_joined.count()"
   ]
  },
  {
   "cell_type": "code",
   "execution_count": 38,
   "id": "3baf8cd8",
   "metadata": {},
   "outputs": [],
   "source": [
    "sales_org = \"Argentina\""
   ]
  },
  {
   "cell_type": "markdown",
   "id": "76823194",
   "metadata": {},
   "source": [
    "#### Filtering Argentina records"
   ]
  },
  {
   "cell_type": "code",
   "execution_count": 39,
   "id": "792a4337",
   "metadata": {},
   "outputs": [],
   "source": [
    "country_df_joined = df_joined[df_joined[\"sales_org\"] == sales_org]"
   ]
  },
  {
   "cell_type": "code",
   "execution_count": 40,
   "id": "a01b6d4c",
   "metadata": {},
   "outputs": [
    {
     "data": {
      "text/plain": [
       "sales_org                  286166\n",
       "cust_id                    286166\n",
       "sales_order_number         286166\n",
       "sales_document_date        286166\n",
       "product_key                286166\n",
       "order_qty                  286166\n",
       "net_value                  286166\n",
       "total                      286166\n",
       "order_uom                  286166\n",
       "order_header_status        286166\n",
       "city                       286166\n",
       "assortment_groups          286166\n",
       "customer_classification    286166\n",
       "subsector                  286166\n",
       "subsector_id               286166\n",
       "category                   286166\n",
       "category_id                286166\n",
       "brand                      286166\n",
       "brand_id                   286166\n",
       "item_gtin                  286166\n",
       "prod_name                  286166\n",
       "dtype: int64"
      ]
     },
     "execution_count": 40,
     "metadata": {},
     "output_type": "execute_result"
    }
   ],
   "source": [
    "country_df_joined.count()"
   ]
  },
  {
   "cell_type": "markdown",
   "id": "5ba0afc2",
   "metadata": {},
   "source": [
    "#### save joined data"
   ]
  },
  {
   "cell_type": "code",
   "execution_count": 41,
   "id": "299dd152",
   "metadata": {},
   "outputs": [],
   "source": [
    "country_df_joined.to_csv(path_or_buf=f\"gs://pg-explore/data/sample_dataset/intermediate/joined/df_joined_{sales_org}.csv\",storage_options={\"token\":\"/mnt/d/PnG/keys/tiger-mle-8c54fa5ce18f.json\"})"
   ]
  }
 ],
 "metadata": {
  "kernelspec": {
   "display_name": "pg_synthetics",
   "language": "python",
   "name": "pg_synthetics"
  },
  "language_info": {
   "codemirror_mode": {
    "name": "ipython",
    "version": 3
   },
   "file_extension": ".py",
   "mimetype": "text/x-python",
   "name": "python",
   "nbconvert_exporter": "python",
   "pygments_lexer": "ipython3",
   "version": "3.8.12"
  }
 },
 "nbformat": 4,
 "nbformat_minor": 5
}
